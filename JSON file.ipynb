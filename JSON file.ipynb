{
 "cells": [
  {
   "cell_type": "markdown",
   "metadata": {},
   "source": [
    "serializing JSON data"
   ]
  },
  {
   "cell_type": "code",
   "execution_count": 1,
   "metadata": {},
   "outputs": [],
   "source": [
    "import json\n",
    "data = {\n",
    "    \"user\" : {\n",
    "        \"name\" : \"william william  \", \n",
    "        \"age\" : 29\n",
    "    }\n",
    "}\n",
    "\n",
    "with open (\"data_file.json\" , \"w\") as write_file:\n",
    "    json.dump(data, write_file, indent=4)\n",
    "    \n",
    "json_str = json.dumps(data, indent=4)"
   ]
  },
  {
   "cell_type": "code",
   "execution_count": 2,
   "metadata": {},
   "outputs": [
    {
     "name": "stdout",
     "output_type": "stream",
     "text": [
      "{\n",
      "    \"user\": {\n",
      "        \"name\": \"william william  \",\n",
      "        \"age\": 29\n",
      "    }\n",
      "}\n"
     ]
    }
   ],
   "source": [
    "print(json_str)"
   ]
  },
  {
   "cell_type": "markdown",
   "metadata": {},
   "source": [
    "deserialization of JSON file"
   ]
  },
  {
   "cell_type": "code",
   "execution_count": 3,
   "metadata": {},
   "outputs": [
    {
     "data": {
      "text/plain": [
       "list"
      ]
     },
     "execution_count": 3,
     "metadata": {},
     "output_type": "execute_result"
    }
   ],
   "source": [
    "import json \n",
    "blackjack_hand = (8, \"q\")\n",
    "encoded_hand= json.dumps(blackjack_hand)\n",
    "decoded_hand= json.loads(encoded_hand)\n",
    "type(decoded_hand)"
   ]
  },
  {
   "cell_type": "markdown",
   "metadata": {},
   "source": [
    "JSON data in Python"
   ]
  },
  {
   "cell_type": "code",
   "execution_count": 4,
   "metadata": {},
   "outputs": [],
   "source": [
    "import requests"
   ]
  },
  {
   "cell_type": "code",
   "execution_count": 8,
   "metadata": {},
   "outputs": [
    {
     "name": "stdout",
     "output_type": "stream",
     "text": [
      "[{'userId': 1, 'id': 1, 'title': 'delectus aut autem', 'completed': False}, {'userId': 1, 'id': 2, 'title': 'quis ut nam facilis et officia qui', 'completed': False}]\n"
     ]
    }
   ],
   "source": [
    "response = requests.get(\"https://jsonplaceholder.typicode.com/todos\")\n",
    "todos = json.loads(response.text)\n",
    "print(todos[0:2])"
   ]
  },
  {
   "cell_type": "code",
   "execution_count": 10,
   "metadata": {},
   "outputs": [],
   "source": [
    "todos_by_user = {}\n",
    "for todo in todos:\n",
    "    if todo[\"completed\"]:\n",
    "        try:\n",
    "            todos_by_user[todo[\"userId\"]] += 1 \n",
    "        except KeyError:\n",
    "                todos_by_user[todo[\"userId\"]] = 1\n",
    "top_users = sorted(todos_by_user.items(),\n",
    "                   key=lambda x: x[1], reverse = True\n",
    ")"
   ]
  },
  {
   "cell_type": "code",
   "execution_count": 12,
   "metadata": {},
   "outputs": [],
   "source": [
    "max_complete= top_users[0][1]\n",
    "\n",
    "users =[]"
   ]
  },
  {
   "cell_type": "code",
   "execution_count": 13,
   "metadata": {},
   "outputs": [
    {
     "name": "stdout",
     "output_type": "stream",
     "text": [
      "users 5and10 completed 12 Todos\n"
     ]
    }
   ],
   "source": [
    "for user, num_complete in top_users:\n",
    "    if num_complete < max_complete:\n",
    "        break\n",
    "    users.append(str(user))\n",
    "max_users= \"and\".join(users)\n",
    "\n",
    "print(f\"users {max_users} completed {max_complete} Todos\")"
   ]
  },
  {
   "cell_type": "code",
   "execution_count": 14,
   "metadata": {},
   "outputs": [],
   "source": [
    "def keep(todo):\n",
    "    is_complete=todo[\"completed\"]\n",
    "    has_max_count = todo[\"userId\"] in users\n",
    "    return is_complete and has_max_count "
   ]
  },
  {
   "cell_type": "code",
   "execution_count": 17,
   "metadata": {},
   "outputs": [],
   "source": [
    "with open (\"filtered_data_file.json\", \"w\") as data_file:\n",
    "    filtered_todos=list(filter(keep, todos))\n",
    "    json.dump(filtered_todos, data_file, indent=2)"
   ]
  },
  {
   "cell_type": "code",
   "execution_count": null,
   "metadata": {},
   "outputs": [],
   "source": []
  }
 ],
 "metadata": {
  "kernelspec": {
   "display_name": "Python 3",
   "language": "python",
   "name": "python3"
  },
  "language_info": {
   "codemirror_mode": {
    "name": "ipython",
    "version": 3
   },
   "file_extension": ".py",
   "mimetype": "text/x-python",
   "name": "python",
   "nbconvert_exporter": "python",
   "pygments_lexer": "ipython3",
   "version": "3.7.6"
  }
 },
 "nbformat": 4,
 "nbformat_minor": 4
}
